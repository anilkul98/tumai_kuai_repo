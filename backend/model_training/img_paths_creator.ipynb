{
 "cells": [
  {
   "cell_type": "code",
   "execution_count": 1,
   "metadata": {},
   "outputs": [],
   "source": [
    "import os\n",
    "from glob import glob"
   ]
  },
  {
   "cell_type": "code",
   "execution_count": 6,
   "metadata": {},
   "outputs": [],
   "source": [
    "for db_type in [\"rgb\", \"all_channels\"]:\n",
    "    classes = os.listdir(f\"data/{db_type}\")\n",
    "    all_lines = [] \n",
    "    for c in classes:\n",
    "        img_paths = glob(f\"data/{db_type}/{c}/*\")\n",
    "        lines = [p + \",\" + c for p in img_paths]\n",
    "        all_lines.extend(lines)\n",
    "    with open(f'{db_type}_paths.txt', 'w') as f:\n",
    "        f.write('\\n'.join(all_lines))"
   ]
  },
  {
   "cell_type": "code",
   "execution_count": null,
   "metadata": {},
   "outputs": [],
   "source": []
  }
 ],
 "metadata": {
  "kernelspec": {
   "display_name": "Python 3",
   "language": "python",
   "name": "python3"
  },
  "language_info": {
   "codemirror_mode": {
    "name": "ipython",
    "version": 3
   },
   "file_extension": ".py",
   "mimetype": "text/x-python",
   "name": "python",
   "nbconvert_exporter": "python",
   "pygments_lexer": "ipython3",
   "version": "3.7.6"
  }
 },
 "nbformat": 4,
 "nbformat_minor": 2
}
